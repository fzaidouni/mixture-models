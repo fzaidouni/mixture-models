{
 "cells": [
  {
   "cell_type": "code",
   "execution_count": 1,
   "metadata": {},
   "outputs": [],
   "source": [
    "import numpy as np\n",
    "import matplotlib as mpl\n",
    "import matplotlib.pyplot as plt\n",
    "import scipy.stats\n",
    "from scipy.stats import norm, ks_2samp\n",
    "from scipy.integrate import trapz, cumtrapz\n",
    "from scipy.interpolate import PchipInterpolator\n",
    "from scipy.special import gammaln\n",
    "from scipy.optimize import minimize\n",
    "\n",
    "import numdifftools as ndt\n",
    "\n",
    "import dynesty\n",
    "from dynesty import plotting as dyplot\n",
    "\n",
    "\n",
    "from astropy.table import Table\n",
    "from scipy import stats\n",
    "\n",
    "mpl.rc('font', size=16)"
   ]
  },
  {
   "cell_type": "code",
   "execution_count": 2,
   "metadata": {},
   "outputs": [],
   "source": [
    "data = Table.read('../data_flags.dat', format = 'ascii')"
   ]
  },
  {
   "cell_type": "code",
   "execution_count": 3,
   "metadata": {},
   "outputs": [],
   "source": [
    "#stellar mass\n",
    "Mstar = np.array(data['Mstar'])\n",
    "Mstar_NSA= np.array(data['Mstar_NSA'])\n",
    "# color\n",
    "u_r = np.array(data['u_r'])\n",
    "g_r = np.array(data['g_r'])\n",
    "u_r_NSA = np.array(data['u_r_NSA'])\n",
    "g_r_NSA = np.array(data['g_r_NSA'])\n",
    "# absolute magniture\n",
    "rabsmag = np.array(data['rabsmag'])\n",
    "rabsmag_NSA = np.array(data['rabsmag_NSA'])\n",
    "#star formation rate and specific SPR\n",
    "SFR  = np.array(data['SFR'])\n",
    "sSFR = np.array(data['sSFR'])"
   ]
  },
  {
   "cell_type": "code",
   "execution_count": 4,
   "metadata": {},
   "outputs": [],
   "source": [
    "#classification V^2\n",
    "\n",
    "wall_v2 = np.argwhere(data['flag_vsquared'] == 0).flatten()\n",
    "void_v2 = np.argwhere(data['flag_vsquared'] == 1).flatten()\n",
    "edge_v2 = np.argwhere(data['flag_vsquared'] == 2).flatten()\n",
    "out_v2 = np.argwhere(data['flag_vsquared'] == 9).flatten()\n",
    "\n",
    "#classification voidfinder\n",
    "\n",
    "wall_vf = np.argwhere(data['flag_voidfinder'] == 0).flatten()\n",
    "void_vf = np.argwhere(data['flag_voidfinder'] == 1).flatten()\n",
    "edge_vf = np.argwhere(data['flag_voidfinder'] == 2).flatten()\n",
    "out_vf = np.argwhere(data['flag_voidfinder'] == 9).flatten()"
   ]
  },
  {
   "cell_type": "code",
   "execution_count": 5,
   "metadata": {},
   "outputs": [],
   "source": [
    "def remove_nan(array):\n",
    "    return array[np.logical_not(np.isnan(array))]\n",
    "\n",
    "data1 = remove_nan(u_r[wall_vf])\n",
    "data2 = remove_nan(u_r[void_vf])\n",
    "bins_ = np.linspace(0,4, 250)"
   ]
  },
  {
   "cell_type": "markdown",
   "metadata": {},
   "source": [
    "Histogram the data (left) and show normalized histograms (right)."
   ]
  },
  {
   "cell_type": "code",
   "execution_count": 7,
   "metadata": {},
   "outputs": [
    {
     "data": {
      "image/png": "[encoded data removed]",
      "text/plain": [
       "<Figure size 792x288 with 2 Axes>"
      ]
     },
     "metadata": {
      "needs_background": "light"
     },
     "output_type": "display_data"
    }
   ],
   "source": [
    "fig, axes = plt.subplots(1,2, figsize=(11,4), sharex=True, tight_layout=True)\n",
    "\n",
    "ax = axes[0]\n",
    "ax.hist(data1, bins=bins_, alpha=0.5)\n",
    "ax.hist(data2, bins=bins_, alpha=0.5)\n",
    "\n",
    "ax = axes[1]\n",
    "ax.hist(data1, bins=bins_, alpha=0.5, density=True)\n",
    "ax.hist(data2, bins=bins_, alpha=0.5, density=True);"
   ]
  },
  {
   "cell_type": "markdown",
   "metadata": {},
   "source": [
    "### Create Binned Data Sets\n",
    "\n",
    "Histogram the sets to create two binned data sets used for fitting below."
   ]
  },
  {
   "cell_type": "code",
   "execution_count": 9,
   "metadata": {},
   "outputs": [
    {
     "data": {
      "text/plain": [
       "<ErrorbarContainer object of 3 artists>"
      ]
     },
     "execution_count": 9,
     "metadata": {},
     "output_type": "execute_result"
    },
    {
     "data": {
      "image/png": "[encoded data removed]",
      "text/plain": [
       "<Figure size 432x288 with 1 Axes>"
      ]
     },
     "metadata": {
      "needs_background": "light"
     },
     "output_type": "display_data"
    }
   ],
   "source": [
    "density = False\n",
    "\n",
    "n1, edges1 = np.histogram(data1, bins=bins_)\n",
    "dn1 = np.sqrt(n1)\n",
    "x = 0.5*(edges1[1:] + edges1[:-1])\n",
    "if density:\n",
    "    N1 = np.trapz(n1, x1)\n",
    "    n1, dn1 = n1/N1, dn1/N1\n",
    "plt.errorbar(x, n1, yerr=dn1, fmt='.')\n",
    "\n",
    "n2, edges2 = np.histogram(data2, bins=bins_)\n",
    "dn2 = np.sqrt(n2)\n",
    "# x = 0.5*(edges2[1:] + edges2[:-1])\n",
    "if density:\n",
    "    N2 = np.trapz(n2, x2)\n",
    "    n2, dn2 = n2/N2, dn2/N2\n",
    "plt.errorbar(x, n2, yerr=dn2, fmt='.')"
   ]
  },
  {
   "cell_type": "markdown",
   "metadata": {},
   "source": [
    "### KS Test\n",
    "\n",
    "Apply the KS test just to see what the result looks like."
   ]
  },
  {
   "cell_type": "code",
   "execution_count": 10,
   "metadata": {},
   "outputs": [
    {
     "data": {
      "text/plain": [
       "(0.1347316755581539, 0.0)"
      ]
     },
     "execution_count": 10,
     "metadata": {},
     "output_type": "execute_result"
    }
   ],
   "source": [
    "ks, p = ks_2samp(data1, data2)\n",
    "ks, p"
   ]
  },
  {
   "cell_type": "code",
   "execution_count": 11,
   "metadata": {},
   "outputs": [],
   "source": [
    "def mixturemodel(params, x):\n",
    "    \"\"\"Mixture of two Gaussians.\n",
    "    \n",
    "    Parameters\n",
    "    ----------\n",
    "    params : list or ndarray\n",
    "        List of parameters (expect 2x3).\n",
    "    x : float or ndarray\n",
    "        Values to calculate the model.\n",
    "    \n",
    "    Returns\n",
    "    -------\n",
    "    model : float or ndarray\n",
    "        Mixture model evaluated at x.\n",
    "    \"\"\"\n",
    "    a, mu_a, sigma_a = params[:3]\n",
    "    b, mu_b, sigma_b = params[3:]\n",
    "    return a*norm.pdf(x, loc=mu_a, scale=sigma_a) + b*norm.pdf(x, loc=mu_b, scale=sigma_b)\n",
    "\n",
    "def logLjoint1(params, m, n, x):\n",
    "    \"\"\"Joint log-likelihood of the two data sets.\n",
    "    \n",
    "    Parameters\n",
    "    ----------\n",
    "    params : list or ndarray\n",
    "        List of 7 parameters: 2x3 Gaussian pars + scale factor.\n",
    "    m : ndarray\n",
    "        Binned counts in data set 1.\n",
    "    n : ndarray\n",
    "        Binned counts in data set 2.\n",
    "    x : ndarray\n",
    "        Bin centers used to construct the histogrammed counts m and n.\n",
    "        \n",
    "    Returns\n",
    "    -------\n",
    "    logL : float\n",
    "        Log likelihood of sets m and n given model parameters.\n",
    "    \"\"\"\n",
    "    s, gausspars = params[0], params[1:]\n",
    "    lambda1 = mixturemodel(gausspars, x)\n",
    "    lambda2 = s*lambda1\n",
    "    return np.sum(m*np.log(lambda1) - lambda1 - gammaln(m+1) + n*np.log(lambda2) - lambda2 - gammaln(n+1))\n",
    "\n",
    "def nlogLjoint1(params, m, n, x):\n",
    "    \"\"\"Negative log-likelihood, for minimizers.\"\"\"\n",
    "    return -logLjoint1(params, m, n, x)"
   ]
  },
  {
   "cell_type": "markdown",
   "metadata": {},
   "source": [
    "#### Maxmize the Likelihood\n",
    "\n",
    "Find the maximum likelihood parameters of model $\\mathcal{M}_1$ by minimizing $-\\ln{\\mathcal{L}}$.\n",
    "\n",
    "Perform a bounded fit using the L-BFGS-B algorithm."
   ]
  },
  {
   "cell_type": "code",
   "execution_count": 14,
   "metadata": {},
   "outputs": [
    {
     "name": "stdout",
     "output_type": "stream",
     "text": [
      "[6.297997018761999, 3750.958826040117, 1.8238095334120312, 0.6644925068644421, 3258.7617421343625, 2.2725390586191687, 1.5613029703212074]\n",
      "  40855.39\n",
      "[8.55711022516259, 4393.108566338144, 1.532731802826024, 0.8815883341293733, 2425.2809052662565, 2.970328806726316, 0.5535065723814838]\n",
      "  40518.47\n",
      "[8.181787485031325, 765.793668841959, 1.4700420311750166, 0.7869556438250394, 853.1547317624993, 2.4347829902357176, 1.5142797537260801]\n",
      "  39927.16\n",
      "[4.180840688708072, 624.4870384465162, 1.939519220923021, 1.9634332269861663, 2000.123028441639, 2.3090445134381783, 1.475490953197306]\n",
      "  43507.18\n",
      "[8.759203430196777, 1351.896553218995, 1.444172924166151, 0.647502084680053, 305.1270782550052, 2.820154017556485, 2.1866285636079255]\n",
      "  39927.16\n",
      "[3.76515365186669, 876.6151005203626, 1.4078136583105798, 1.6093178011940743, 4697.125660919125, 3.0819754261937424, 1.8259037646657552]\n",
      "  43507.18\n",
      "[6.085117432671397, 4161.760996510609, 1.0961021306995566, 1.7459573826081924, 1849.7985355276521, 2.845497903457587, 1.9383540907949024]\n",
      "  44635.63\n",
      "[1.1607958953902164, 1367.2453201936867, 1.328406482213085, 1.0070614492060264, 3210.156393970526, 3.226044685398885, 1.0137216245661167]\n",
      "  40218.31\n",
      "[4.5985528038747985, 2135.303817057153, 1.1239107089615783, 2.082003198067561, 3514.5455880218897, 2.78917059313963, 1.3319103993509722]\n",
      "  43507.18\n",
      "[2.715816513231296, 3400.9258535584345, 1.5935555630696059, 1.4336602157507685, 2962.6653649212444, 2.4502702894882544, 0.984277404379539]\n",
      "  41031.40\n"
     ]
    },
    {
     "data": {
      "text/plain": [
       "      fun: 39927.16436957744\n",
       " hess_inv: <7x7 LbfgsInvHessProduct with dtype=float64>\n",
       "      jac: array([ 1.49448169e+00, -1.45519152e-03, -2.32103048e-01,  2.07398742e+04,\n",
       "       -7.27595761e-04, -6.38829079e-01,  4.92561041e+04])\n",
       "  message: b'CONVERGENCE: REL_REDUCTION_OF_F_<=_FACTR*EPSMCH'\n",
       "     nfev: 728\n",
       "      nit: 59\n",
       "   status: 0\n",
       "  success: True\n",
       "        x: array([2.04203026e-01, 1.15911748e+03, 1.72646468e+00, 5.00000000e-01,\n",
       "       2.41785208e+03, 2.40393676e+00, 5.00000000e-01])"
      ]
     },
     "execution_count": 14,
     "metadata": {},
     "output_type": "execute_result"
    }
   ],
   "source": [
    "# Parameter bounds.\n",
    "bounds1 = [[0.01,10.],      # s ........ Gaussian 1 to 2 scale factor\n",
    "           [100., 5000.],  # a ........ Gaussian 1 amplitude\n",
    "           [1., 2.],      # mu_a ..... Gaussian 1 location\n",
    "           [0.5, 2.5],      # sigma_a .. Gaussian 1 scale\n",
    "           [100, 5000.],  # b ........ Gaussian 2 amplitude\n",
    "           [2.1, 3.5],       # mu_b ..... Gaussian 2 location\n",
    "           [0.5, 2.5]]      # sigma_b .. Gaussian 2 scale\n",
    "\n",
    "# Generate 10 random seeds for the minimizer.\n",
    "# Store the result with the lowest -ln(L) in bestfit.\n",
    "bestfit = None\n",
    "\n",
    "for i in range(10):\n",
    "    p0 = [np.random.uniform(b[0], b[1]) for b in bounds1]\n",
    "    result = minimize(nlogLjoint1, p0, method='L-BFGS-B', args=(n1, n2, x), bounds=bounds1)\n",
    "    \n",
    "    if result.success:\n",
    "        print(p0)\n",
    "        print('  {:.2f}'.format(result.fun))\n",
    "        if bestfit is None:\n",
    "            bestfit = result\n",
    "        else:\n",
    "            if result.fun < bestfit.fun:\n",
    "                bestfit = result\n",
    "\n",
    "bestfit"
   ]
  },
  {
   "cell_type": "markdown",
   "metadata": {},
   "source": [
    "#### Plot Maximum Likelihood Fit\n",
    "\n",
    "Plot the best fit results on top of the binned data."
   ]
  },
  {
   "cell_type": "code",
   "execution_count": 15,
   "metadata": {},
   "outputs": [
    {
     "data": {
      "image/png": "[encoded data removed]",
      "text/plain": [
       "<Figure size 432x288 with 1 Axes>"
      ]
     },
     "metadata": {
      "needs_background": "light"
     },
     "output_type": "display_data"
    }
   ],
   "source": [
    "fig, ax = plt.subplots(1,1, figsize=(6,4), tight_layout=True)\n",
    "\n",
    "ep = ax.errorbar(x, n1, yerr=dn1, fmt='.')\n",
    "ax.plot(x, mixturemodel(bestfit.x[1:], x), color=ep[0].get_color(), label='data set 1')\n",
    "\n",
    "ep = ax.errorbar(x, n2, yerr=dn1, fmt='.');\n",
    "ax.plot(x, bestfit.x[0]*mixturemodel(bestfit.x[1:], x), color=ep[0].get_color(), label='data set 2')\n",
    "\n",
    "ax.set(#xlim=(-3,3),\n",
    "       xlabel='$x$',\n",
    "       #ylim=(0, 1300),\n",
    "       ylabel='count')\n",
    "\n",
    "ax.legend(fontsize=12);"
   ]
  }
 ],
 "metadata": {
  "kernelspec": {
   "display_name": "Python 3",
   "language": "python",
   "name": "python3"
  },
  "language_info": {
   "codemirror_mode": {
    "name": "ipython",
    "version": 3
   },
   "file_extension": ".py",
   "mimetype": "text/x-python",
   "name": "python",
   "nbconvert_exporter": "python",
   "pygments_lexer": "ipython3",
   "version": "3.7.6"
  }
 },
 "nbformat": 4,
 "nbformat_minor": 4
}
