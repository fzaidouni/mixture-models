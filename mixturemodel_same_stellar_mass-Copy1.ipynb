{
 "cells": [
  {
   "cell_type": "code",
   "execution_count": 1,
   "metadata": {},
   "outputs": [],
   "source": [
    "import numpy as np\n",
    "import matplotlib as mpl\n",
    "import matplotlib.pyplot as plt\n",
    "import scipy.stats\n",
    "from scipy.stats import norm, ks_2samp\n",
    "from scipy.integrate import trapz, cumtrapz\n",
    "from scipy.interpolate import PchipInterpolator\n",
    "from scipy.special import gammaln\n",
    "from scipy.optimize import minimize\n",
    "\n",
    "import numdifftools as ndt\n",
    "\n",
    "import dynesty\n",
    "from dynesty import plotting as dyplot\n",
    "\n",
    "\n",
    "from astropy.table import Table\n",
    "from scipy import stats\n",
    "\n",
    "mpl.rc('font', size=16)\n",
    "\n",
    "# skew normal distribution on unimodal "
   ]
  },
  {
   "cell_type": "code",
   "execution_count": 2,
   "metadata": {},
   "outputs": [],
   "source": [
    "data = Table.read('../data_flags.dat', format = 'ascii')"
   ]
  },
  {
   "cell_type": "code",
   "execution_count": 3,
   "metadata": {},
   "outputs": [],
   "source": [
    "#stellar mass\n",
    "Mstar = np.array(data['Mstar'])\n",
    "Mstar_NSA= np.array(data['Mstar_NSA'])\n",
    "# color\n",
    "u_r = np.array(data['u_r'])\n",
    "g_r = np.array(data['g_r'])\n",
    "u_r_NSA = np.array(data['u_r_NSA'])\n",
    "g_r_NSA = np.array(data['g_r_NSA'])\n",
    "# absolute magniture\n",
    "rabsmag = np.array(data['rabsmag'])\n",
    "rabsmag_NSA = np.array(data['rabsmag_NSA'])\n",
    "#star formation rate and specific SPR\n",
    "SFR  = np.array(data['SFR'])\n",
    "sSFR = np.array(data['sSFR'])"
   ]
  },
  {
   "cell_type": "code",
   "execution_count": 4,
   "metadata": {},
   "outputs": [],
   "source": [
    "#classification V^2\n",
    "\n",
    "wall_v2 = np.argwhere(data['flag_vsquared'] == 0).flatten()\n",
    "void_v2 = np.argwhere(data['flag_vsquared'] == 1).flatten()\n",
    "edge_v2 = np.argwhere(data['flag_vsquared'] == 2).flatten()\n",
    "out_v2 = np.argwhere(data['flag_vsquared'] == 9).flatten()\n",
    "\n",
    "#classification voidfinder\n",
    "\n",
    "wall_vf = np.argwhere(data['flag_voidfinder'] == 0).flatten()\n",
    "void_vf = np.argwhere(data['flag_voidfinder'] == 1).flatten()\n",
    "edge_vf = np.argwhere(data['flag_voidfinder'] == 2).flatten()\n",
    "out_vf = np.argwhere(data['flag_voidfinder'] == 9).flatten()"
   ]
  },
  {
   "cell_type": "code",
   "execution_count": 5,
   "metadata": {},
   "outputs": [],
   "source": [
    "def remove_nan(array):\n",
    "    return array[np.logical_not(np.isnan(array))]\n",
    "\n",
    "data1 = remove_nan(Mstar[wall_vf])\n",
    "data2 = remove_nan(Mstar[void_vf])\n",
    "bins_ = np.linspace(5.5,12.5, 250)"
   ]
  },
  {
   "cell_type": "markdown",
   "metadata": {},
   "source": [
    "Histogram the data (left) and show normalized histograms (right)."
   ]
  },
  {
   "cell_type": "code",
   "execution_count": 6,
   "metadata": {},
   "outputs": [
    {
     "data": {
      "image/png": "[encoded data removed]",
      "text/plain": [
       "<Figure size 792x288 with 2 Axes>"
      ]
     },
     "metadata": {
      "needs_background": "light"
     },
     "output_type": "display_data"
    }
   ],
   "source": [
    "fig, axes = plt.subplots(1,2, figsize=(11,4), sharex=True, tight_layout=True)\n",
    "\n",
    "ax = axes[0]\n",
    "ax.hist(data1, bins=bins_, alpha=0.5)\n",
    "ax.hist(data2, bins=bins_, alpha=0.5)\n",
    "\n",
    "ax = axes[1]\n",
    "ax.hist(data1, bins=bins_, alpha=0.5, density=True)\n",
    "ax.hist(data2, bins=bins_, alpha=0.5, density=True);"
   ]
  },
  {
   "cell_type": "markdown",
   "metadata": {},
   "source": [
    "### Create Binned Data Sets\n",
    "\n",
    "Histogram the sets to create two binned data sets used for fitting below."
   ]
  },
  {
   "cell_type": "code",
   "execution_count": 7,
   "metadata": {},
   "outputs": [
    {
     "data": {
      "text/plain": [
       "<ErrorbarContainer object of 3 artists>"
      ]
     },
     "execution_count": 7,
     "metadata": {},
     "output_type": "execute_result"
    },
    {
     "data": {
      "image/png": "[encoded data removed]",
      "text/plain": [
       "<Figure size 432x288 with 1 Axes>"
      ]
     },
     "metadata": {
      "needs_background": "light"
     },
     "output_type": "display_data"
    }
   ],
   "source": [
    "density = False\n",
    "\n",
    "n1, edges1 = np.histogram(data1, bins=bins_)\n",
    "dn1 = np.sqrt(n1)\n",
    "x = 0.5*(edges1[1:] + edges1[:-1])\n",
    "if density:\n",
    "    N1 = np.trapz(n1, x1)\n",
    "    n1, dn1 = n1/N1, dn1/N1\n",
    "plt.errorbar(x, n1, yerr=dn1, fmt='.')\n",
    "\n",
    "n2, edges2 = np.histogram(data2, bins=bins_)\n",
    "dn2 = np.sqrt(n2)\n",
    "# x = 0.5*(edges2[1:] + edges2[:-1])\n",
    "if density:\n",
    "    N2 = np.trapz(n2, x2)\n",
    "    n2, dn2 = n2/N2, dn2/N2\n",
    "plt.errorbar(x, n2, yerr=dn2, fmt='.')"
   ]
  },
  {
   "cell_type": "markdown",
   "metadata": {},
   "source": [
    "### KS Test\n",
    "\n",
    "Apply the KS test just to see what the result looks like."
   ]
  },
  {
   "cell_type": "code",
   "execution_count": 8,
   "metadata": {},
   "outputs": [
    {
     "data": {
      "text/plain": [
       "(0.11852366346205306, 0.0)"
      ]
     },
     "execution_count": 8,
     "metadata": {},
     "output_type": "execute_result"
    }
   ],
   "source": [
    "ks, p = ks_2samp(data1, data2)\n",
    "ks, p"
   ]
  },
  {
   "cell_type": "code",
   "execution_count": 20,
   "metadata": {},
   "outputs": [],
   "source": [
    "def mixturemodel(params, x):\n",
    "    \"\"\"Mixture of two Gaussians.\n",
    "    \n",
    "    Parameters\n",
    "    ----------\n",
    "    params : list or ndarray\n",
    "        List of parameters (expect 2x3).\n",
    "    x : float or ndarray\n",
    "        Values to calculate the model.\n",
    "    \n",
    "    Returns\n",
    "    -------\n",
    "    model : float or ndarray\n",
    "        Mixture model evaluated at x.\n",
    "    \"\"\"\n",
    "    a, mu_a, sigma_a = params[:3]\n",
    "    b, mu_b, sigma_b = params[3:]\n",
    "    return a*norm.pdf(x, loc=mu_a, scale=sigma_a) + b*norm.pdf(x, loc=mu_b, scale=sigma_b)\n",
    "\n",
    "def logLjoint1(params, m, n, x):\n",
    "    \"\"\"Joint log-likelihood of the two data sets.\n",
    "    \n",
    "    Parameters\n",
    "    ----------\n",
    "    params : list or ndarray\n",
    "        List of 7 parameters: 2x3 Gaussian pars + scale factor.\n",
    "    m : ndarray\n",
    "        Binned counts in data set 1.\n",
    "    n : ndarray\n",
    "        Binned counts in data set 2.\n",
    "    x : ndarray\n",
    "        Bin centers used to construct the histogrammed counts m and n.\n",
    "        \n",
    "    Returns\n",
    "    -------\n",
    "    logL : float\n",
    "        Log likelihood of sets m and n given model parameters.\n",
    "    \"\"\"\n",
    "    s, gausspars = params[0], params[1:]\n",
    "    lambda1 = mixturemodel(gausspars, x)\n",
    "    lambda2 = s*lambda1\n",
    "    return np.sum(m*np.log(lambda1) - lambda1 - gammaln(m+1) + n*np.log(lambda2) - lambda2 - gammaln(n+1))\n",
    "\n",
    "def nlogLjoint1(params, m, n, x):\n",
    "    \"\"\"Negative log-likelihood, for minimizers.\"\"\"\n",
    "    return -logLjoint1(params, m, n, x)"
   ]
  },
  {
   "cell_type": "markdown",
   "metadata": {},
   "source": [
    "#### Maxmize the Likelihood\n",
    "\n",
    "Find the maximum likelihood parameters of model $\\mathcal{M}_1$ by minimizing $-\\ln{\\mathcal{L}}$.\n",
    "\n",
    "Perform a bounded fit using the L-BFGS-B algorithm."
   ]
  },
  {
   "cell_type": "code",
   "execution_count": 21,
   "metadata": {},
   "outputs": [
    {
     "name": "stderr",
     "output_type": "stream",
     "text": [
      "/Users/Fatima/opt/anaconda3/lib/python3.7/site-packages/ipykernel_launcher.py:42: RuntimeWarning: divide by zero encountered in log\n",
      "/Users/Fatima/opt/anaconda3/lib/python3.7/site-packages/ipykernel_launcher.py:42: RuntimeWarning: invalid value encountered in multiply\n"
     ]
    },
    {
     "name": "stdout",
     "output_type": "stream",
     "text": [
      "[1.0, 2011.0941719223408, 9.813703782272581, 0.3878255116843409, 0.0, 0.0, 1.0]\n",
      "  76015.17\n",
      "[1.0, 2411.017654045898, 10.71140394464501, 1.0084621892767591, 0.0, 0.0, 1.0]\n",
      "  76015.17\n"
     ]
    },
    {
     "data": {
      "text/plain": [
       "      fun: 76015.17399327399\n",
       " hess_inv: <7x7 LbfgsInvHessProduct with dtype=float64>\n",
       "      jac: array([ 7.99839341e+04,  0.00000000e+00,  1.51339918e-01,  1.86264515e-01,\n",
       "       -2.12457962e-01,  0.00000000e+00,  0.00000000e+00])\n",
       "  message: b'CONVERGENCE: REL_REDUCTION_OF_F_<=_FACTR*EPSMCH'\n",
       "     nfev: 232\n",
       "      nit: 23\n",
       "   status: 0\n",
       "  success: True\n",
       "        x: array([1.00000000e+00, 3.44768797e+03, 1.02144202e+01, 6.20984059e-01,\n",
       "       0.00000000e+00, 0.00000000e+00, 1.00000000e+00])"
      ]
     },
     "execution_count": 21,
     "metadata": {},
     "output_type": "execute_result"
    }
   ],
   "source": [
    "# Parameter bounds.\n",
    "bounds1 = [[1.,1.],      # s ........ Gaussian 1 to 2 scale factor\n",
    "           [100., 5000.],  # a ........ Gaussian 1 amplitude\n",
    "           [9., 11.],      # mu_a ..... Gaussian 1 location\n",
    "           [0.1, 3.],      # sigma_a .. Gaussian 1 scale\n",
    "           [0., 0.],  # b ........ Gaussian 2 amplitude\n",
    "           [0., 0.],       # mu_b ..... Gaussian 2 location\n",
    "           [1., 1.]]      # sigma_b .. Gaussian 2 scale\n",
    "\n",
    "# Generate 10 random seeds for the minimizer.\n",
    "# Store the result with the lowest -ln(L) in bestfit.\n",
    "bestfit = None\n",
    "\n",
    "for i in range(10):\n",
    "    p0 = [np.random.uniform(b[0], b[1]) for b in bounds1]\n",
    "    result = minimize(nlogLjoint1, p0, method='L-BFGS-B', args=(n1, n2, x), bounds=bounds1)\n",
    "    \n",
    "    if result.success:\n",
    "        print(p0)\n",
    "        print('  {:.2f}'.format(result.fun))\n",
    "        if bestfit is None:\n",
    "            bestfit = result\n",
    "        else:\n",
    "            if result.fun < bestfit.fun:\n",
    "                bestfit = result\n",
    "\n",
    "bestfit"
   ]
  },
  {
   "cell_type": "markdown",
   "metadata": {},
   "source": [
    "#### Plot Maximum Likelihood Fit\n",
    "\n",
    "Plot the best fit results on top of the binned data."
   ]
  },
  {
   "cell_type": "code",
   "execution_count": 22,
   "metadata": {},
   "outputs": [
    {
     "data": {
      "image/png": "[encoded data removed]",
      "text/plain": [
       "<Figure size 432x288 with 1 Axes>"
      ]
     },
     "metadata": {
      "needs_background": "light"
     },
     "output_type": "display_data"
    }
   ],
   "source": [
    "fig, ax = plt.subplots(1,1, figsize=(6,4), tight_layout=True)\n",
    "\n",
    "ep = ax.errorbar(x, n1, yerr=dn1, fmt='.')\n",
    "ax.plot(x, mixturemodel(bestfit.x[1:], x), color=ep[0].get_color(), label='data set 1')\n",
    "\n",
    "ep = ax.errorbar(x, n2, yerr=dn1, fmt='.');\n",
    "ax.plot(x, bestfit.x[0]*mixturemodel(bestfit.x[1:], x), color=ep[0].get_color(), label='data set 2')\n",
    "\n",
    "ax.set(#xlim=(-3,3),\n",
    "       xlabel='$x$',\n",
    "       #ylim=(0, 1300),\n",
    "       ylabel='count')\n",
    "\n",
    "ax.legend(fontsize=12);"
   ]
  },
  {
   "cell_type": "code",
   "execution_count": 28,
   "metadata": {},
   "outputs": [
    {
     "name": "stderr",
     "output_type": "stream",
     "text": [
      "/Users/Fatima/opt/anaconda3/lib/python3.7/site-packages/ipykernel_launcher.py:42: RuntimeWarning: invalid value encountered in log\n",
      "/Users/Fatima/opt/anaconda3/lib/python3.7/site-packages/numdifftools/extrapolation.py:489: RuntimeWarning: invalid value encountered in less_equal\n",
      "  converged = err <= tol\n",
      "/Users/Fatima/opt/anaconda3/lib/python3.7/site-packages/numdifftools/limits.py:173: RuntimeWarning: invalid value encountered in less\n",
      "  outliers = (((abs(der) < (a_median / trim_fact)) +\n",
      "/Users/Fatima/opt/anaconda3/lib/python3.7/site-packages/numdifftools/limits.py:174: RuntimeWarning: invalid value encountered in greater\n",
      "  (abs(der) > (a_median * trim_fact))) * (a_median > 1e-8) +\n",
      "/Users/Fatima/opt/anaconda3/lib/python3.7/site-packages/numdifftools/limits.py:175: RuntimeWarning: invalid value encountered in less\n",
      "  ((der < p25 - 1.5 * iqr) + (p75 + 1.5 * iqr < der)))\n"
     ]
    }
   ],
   "source": [
    "negloglike1 = lambda params: nlogLjoint1(params, n1, n2, x)\n",
    "\n",
    "hessian = ndt.Hessian(negloglike1)\n",
    "h = hessian(bestfit.x)\n",
    "\n",
    "# Invert the Hessian matrix and compute the square root of the diagonals.\n",
    "hinv = np.linalg.inv(h)\n",
    "uncertainty = np.sqrt(np.diag(hinv))"
   ]
  },
  {
   "cell_type": "code",
   "execution_count": 29,
   "metadata": {},
   "outputs": [
    {
     "name": "stdout",
     "output_type": "stream",
     "text": [
      "$s$        =    0.20 +- 0.00\n",
      "$a$        = 2331.31 +- 7.98\n",
      "$\\mu_a$    =    1.89 +- 0.00\n",
      "$\\sigma_a$ =    0.48 +- 0.00\n",
      "$b$        = 1243.70 +- 6.80\n",
      "$\\mu_b$    =    2.73 +- 0.00\n",
      "$\\sigma_b$ =    0.15 +- 0.00\n"
     ]
    }
   ],
   "source": [
    "\n",
    "labels = ['$s$', '$a$', r'$\\mu_a$', r'$\\sigma_a$', '$b$', r'$\\mu_b$', r'$\\sigma_b$']\n",
    "for i in range(7):\n",
    "    print('{:<10s} = {:7.2f} +- {:.2f}'.format(labels[i], bestfit.x[i], uncertainty[i]))"
   ]
  },
  {
   "cell_type": "code",
   "execution_count": 52,
   "metadata": {},
   "outputs": [],
   "source": [
    "def uniform(a, b, u):\n",
    "    \"\"\"Given u in [0,1], return a uniform number in [a,b].\"\"\"\n",
    "    return a + (b-a)*u\n",
    "\n",
    "def jeffreys(a, b, u):\n",
    "    \"\"\"Given u in [0,1], return a Jeffreys random number in [a,b].\"\"\"\n",
    "    return a**(1-u) * b**u\n",
    "\n",
    "def prior_xform1(u):\n",
    "    \"\"\"Priors for the 7 parameters of model M1. Required by the dynesty sampler.\n",
    "    \n",
    "    Parameters\n",
    "    ----------\n",
    "    u : ndarray\n",
    "        Array of uniform random numbers between 0 and 1.\n",
    "        \n",
    "    Returns\n",
    "    -------\n",
    "    priors : ndarray\n",
    "        Transformed random numbers giving prior ranges on model parameters.\n",
    "    \"\"\"\n",
    "#     s       = uniform(0.1, 2., u[0])\n",
    "#     a       = jeffreys(1., 1e4, u[1])\n",
    "#     mu_a    = uniform(0., 3., u[2])\n",
    "#     sigma_a = jeffreys(0.1, 1., u[3])\n",
    "#     b       = jeffreys(1., 1e4, u[4])\n",
    "#     mu_b    = uniform(1, 4., u[5])\n",
    "#     sigma_b = jeffreys(0., 1., u[6])\n",
    "\n",
    "    s       = uniform(0.2, 2., u[0])\n",
    "    a       = jeffreys(1., 1e4, u[1])\n",
    "    mu_a    = uniform(0, 3., u[2])\n",
    "    sigma_a = jeffreys(0.1, 1., u[3])\n",
    "    b       = jeffreys(1., 1e4, u[4])\n",
    "    mu_b    = uniform(0., 3., u[5])\n",
    "    sigma_b = jeffreys(0.1, 1., u[6])\n",
    "\n",
    "#     s       = uniform(0.1, 2., u[0])\n",
    "#     a       = jeffreys(1., 1e4, u[1])\n",
    "#     mu_a    = uniform(0, 3., u[2])\n",
    "#     sigma_a = jeffreys(0.1, 1., u[3])\n",
    "#     b       = jeffreys(1., 1e4, u[4])\n",
    "#     mu_b    = uniform(1, 4., u[5])\n",
    "#     sigma_b = jeffreys(0., 1., u[6])\n",
    "    \n",
    "    return s, a, mu_a, sigma_a, b, mu_b, sigma_b"
   ]
  },
  {
   "cell_type": "code",
   "execution_count": null,
   "metadata": {},
   "outputs": [
    {
     "name": "stderr",
     "output_type": "stream",
     "text": [
      "5373it [03:24,  2.11it/s, batch: 0 | bound: 89 | nc: 410 | ncall: 100837 | eff(%):  5.302 | loglstar:   -inf < -44525.271 <    inf | logz: -44542.658 +/-  0.260 | dlogz: 32669.945 >  0.010]  "
     ]
    }
   ],
   "source": [
    "dsampler = dynesty.DynamicNestedSampler(logLjoint1, prior_xform1, ndim=7,\n",
    "                                        logl_args=(n1, n2, x),\n",
    "                                        nlive=1000,\n",
    "                                        bound='multi',\n",
    "                                        sample='auto')\n",
    "\n",
    "dsampler.run_nested()\n",
    "dres1 = dsampler.results"
   ]
  },
  {
   "cell_type": "code",
   "execution_count": 23,
   "metadata": {},
   "outputs": [
    {
     "ename": "NameError",
     "evalue": "name 'dres1' is not defined",
     "output_type": "error",
     "traceback": [
      "\u001b[0;31m---------------------------------------------------------------------------\u001b[0m",
      "\u001b[0;31mNameError\u001b[0m                                 Traceback (most recent call last)",
      "\u001b[0;32m<ipython-input-23-4c0e9381574f>\u001b[0m in \u001b[0;36m<module>\u001b[0;34m\u001b[0m\n\u001b[0;32m----> 1\u001b[0;31m fig, axes = dyplot.cornerplot(dres1, smooth=0.03,\n\u001b[0m\u001b[1;32m      2\u001b[0m                               \u001b[0mlabels\u001b[0m\u001b[0;34m=\u001b[0m\u001b[0mlabels\u001b[0m\u001b[0;34m,\u001b[0m\u001b[0;34m\u001b[0m\u001b[0;34m\u001b[0m\u001b[0m\n\u001b[1;32m      3\u001b[0m                               \u001b[0mshow_titles\u001b[0m\u001b[0;34m=\u001b[0m\u001b[0;32mTrue\u001b[0m\u001b[0;34m,\u001b[0m\u001b[0;34m\u001b[0m\u001b[0;34m\u001b[0m\u001b[0m\n\u001b[1;32m      4\u001b[0m                               \u001b[0mquantiles_2d\u001b[0m\u001b[0;34m=\u001b[0m\u001b[0;34m[\u001b[0m\u001b[0;36m1\u001b[0m\u001b[0;34m-\u001b[0m\u001b[0mnp\u001b[0m\u001b[0;34m.\u001b[0m\u001b[0mexp\u001b[0m\u001b[0;34m(\u001b[0m\u001b[0;34m-\u001b[0m\u001b[0;36m0.5\u001b[0m\u001b[0;34m*\u001b[0m\u001b[0mr\u001b[0m\u001b[0;34m**\u001b[0m\u001b[0;36m2\u001b[0m\u001b[0;34m)\u001b[0m \u001b[0;32mfor\u001b[0m \u001b[0mr\u001b[0m \u001b[0;32min\u001b[0m \u001b[0;34m[\u001b[0m\u001b[0;36m1.\u001b[0m\u001b[0;34m,\u001b[0m\u001b[0;36m2.\u001b[0m\u001b[0;34m,\u001b[0m\u001b[0;36m3\u001b[0m\u001b[0;34m]\u001b[0m\u001b[0;34m]\u001b[0m\u001b[0;34m,\u001b[0m\u001b[0;34m\u001b[0m\u001b[0;34m\u001b[0m\u001b[0m\n\u001b[1;32m      5\u001b[0m                               \u001b[0mquantiles\u001b[0m\u001b[0;34m=\u001b[0m\u001b[0;34m[\u001b[0m\u001b[0;36m0.16\u001b[0m\u001b[0;34m,\u001b[0m \u001b[0;36m0.5\u001b[0m\u001b[0;34m,\u001b[0m \u001b[0;36m0.84\u001b[0m\u001b[0;34m]\u001b[0m\u001b[0;34m,\u001b[0m\u001b[0;34m\u001b[0m\u001b[0;34m\u001b[0m\u001b[0m\n",
      "\u001b[0;31mNameError\u001b[0m: name 'dres1' is not defined"
     ]
    }
   ],
   "source": [
    "fig, axes = dyplot.cornerplot(dres1, smooth=0.03,\n",
    "                              labels=labels,\n",
    "                              show_titles=True,\n",
    "                              quantiles_2d=[1-np.exp(-0.5*r**2) for r in [1.,2.,3]],\n",
    "                              quantiles=[0.16, 0.5, 0.84],\n",
    "                              fig=plt.subplots(7, 7, figsize=(2.5*7,2.6*7)),\n",
    "                              color='#1f77d4')"
   ]
  },
  {
   "cell_type": "code",
   "execution_count": null,
   "metadata": {},
   "outputs": [],
   "source": [
    "lnzM1 = dres1.logz[-1]\n",
    "lnzM1"
   ]
  },
  {
   "cell_type": "code",
   "execution_count": null,
   "metadata": {},
   "outputs": [],
   "source": []
  }
 ],
 "metadata": {
  "kernelspec": {
   "display_name": "Python 3",
   "language": "python",
   "name": "python3"
  },
  "language_info": {
   "codemirror_mode": {
    "name": "ipython",
    "version": 3
   },
   "file_extension": ".py",
   "mimetype": "text/x-python",
   "name": "python",
   "nbconvert_exporter": "python",
   "pygments_lexer": "ipython3",
   "version": "3.7.6"
  }
 },
 "nbformat": 4,
 "nbformat_minor": 4
}
